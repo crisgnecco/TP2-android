{
  "nbformat": 4,
  "nbformat_minor": 0,
  "metadata": {
    "colab": {
      "name": "Cuaderno_2_Miercoles_grupo7_2021.ipynb",
      "provenance": [],
      "collapsed_sections": []
    },
    "kernelspec": {
      "name": "python3",
      "display_name": "Python 3"
    },
    "language_info": {
      "name": "python"
    }
  },
  "cells": [
    {
      "cell_type": "markdown",
      "metadata": {
        "id": "QxgqeRQDPztb"
      },
      "source": [
        "---\n",
        "# 1 Introduccion\n",
        "\n",
        "Para este segundo ejercicios a eleccion, el concepto de HPC aplicado es volumen de dato, donde en la primera parte graficamos la cantidad de casos, muertes o recuperados en función del tiempo según la entrada que el usuario haya seleccionado. El dataSet utilizado consta de una tabla con 279 filas que corresponden a la cantidad de casos de cada día por cada país y aproximadamente 540 columnas, de las cuales 536 corresponden a las fechas. Este dataSet se actualiza cada día, por lo tanto, la cantidad de columnas aumentará en 1 cada día.\n",
        "\n",
        "\n",
        "En la segunda parte usamos una biblioteca llamada profet (internamente usa la biblioteca sci learn) la cual nos permite pronosticar la cantidad de casos para los próximos meses. Esto se logra entrenando al algoritmo con nuestro dataset para generar un modelo predictivo y luego se obtiene pronóstico para un periodo dado.\n"
      ]
    },
    {
      "cell_type": "markdown",
      "metadata": {
        "id": "B4T0QtLhQRdM"
      },
      "source": [
        "---\n",
        "# 2 Armado del ambiente\n",
        "\n"
      ]
    },
    {
      "cell_type": "markdown",
      "metadata": {
        "id": "TCe-LPadREwh"
      },
      "source": [
        "---\n",
        "## 2.1 Instalacion del modulo fbprophet"
      ]
    },
    {
      "cell_type": "code",
      "metadata": {
        "id": "KiTOc-0oR-O4"
      },
      "source": [
        "!pip install fbprophet"
      ],
      "execution_count": null,
      "outputs": []
    },
    {
      "cell_type": "markdown",
      "metadata": {
        "id": "fJvHYkxRSJRl"
      },
      "source": [
        "---\n",
        "## 2.2 Importacion de modulos y datasets necesarios"
      ]
    },
    {
      "cell_type": "code",
      "metadata": {
        "id": "Bgk5S2NCSPgG"
      },
      "source": [
        "%matplotlib inline\n",
        "\n",
        "# Importando paquetes necesarios\n",
        "import numpy as np\n",
        "import pandas as pd\n",
        "import matplotlib.pyplot as plt\n",
        "import seaborn as sns\n",
        "import sys\n",
        "\n",
        "from fbprophet import Prophet\n",
        "from __future__ import print_function\n",
        "from ipywidgets import interact, interactive, fixed, interact_manual\n",
        "import ipywidgets as widgets\n",
        "\n",
        "from urllib.error import HTTPError\n",
        "\n",
        "# Seteo figuras y estilo inline\n",
        "sns.set()\n",
        "\n",
        "# URL de dataset's\n",
        "\n",
        "base_url = 'https://raw.githubusercontent.com/CSSEGISandData/COVID-19/master/csse_covid_19_data/csse_covid_19_time_series/'\n",
        "confirmados_data_url = base_url + 'time_series_covid19_confirmed_global.csv'\n",
        "muertes_data_url = base_url + 'time_series_covid19_deaths_global.csv'\n",
        "recuperados_data_url = base_url+ 'time_series_covid19_recovered_global.csv'\n",
        "\n",
        "# Importando datasets como pandas dataframes\n",
        "try:\n",
        "  data_confirmados = pd.read_csv(confirmados_data_url)\n",
        "  data_muertos = pd.read_csv(muertes_data_url)\n",
        "  data_recuperados = pd.read_csv(recuperados_data_url)\n",
        "except HTTPError:\n",
        "  sys.exit(\"No se pudieron importar los datasets, verifique las URL\")"
      ],
      "execution_count": 2,
      "outputs": []
    },
    {
      "cell_type": "markdown",
      "metadata": {
        "id": "ICsvt0pHbIOH"
      },
      "source": [
        "---\n",
        "## 2.3 Declaracion de funciones necesarias para el Desarrollo"
      ]
    },
    {
      "cell_type": "code",
      "metadata": {
        "id": "f_FJE1FzbGiQ"
      },
      "source": [
        "# Listado de todos los paises del dataset\n",
        "lista_paises = list(data_confirmados['Country/Region'].drop_duplicates())\n",
        "\n",
        "# Funciones\n",
        "\n",
        "# Funcion para agrupar por pais\n",
        "def agrupar(df):\n",
        "    # Agrupo por pais y elimino las columnas \"Lat\" y \"Long\"\n",
        "    data = df.groupby(['Country/Region']).sum().drop(['Lat', 'Long'], axis=1)\n",
        "    # Realizo transposicion del dataset\n",
        "    data = data.transpose()\n",
        "    # Seteo los indeces (Fechas) como DateTimeIndex\n",
        "    datetime_index = pd.DatetimeIndex(data.index)\n",
        "    data.set_index(datetime_index, inplace=True)\n",
        "    return data\n",
        "\n",
        "# Funcion para grafico con respecto al tiempo\n",
        "def grafico(df, paises, titulo, eje_y):\n",
        "    if len(paises) == 0:\n",
        "      return\n",
        "    if len(paises) == len(lista_paises):\n",
        "      ax = df.plot(figsize=(30,15), linewidth=2, marker='.', fontsize=20, logy=False)\n",
        "    else:\n",
        "      ax = df[paises].plot(figsize=(20,10), linewidth=2, marker='.', fontsize=20, logy=False)\n",
        "    ax.legend(ncol=5, loc='upper left')\n",
        "    plt.xlabel(\"Fecha\", fontsize=20);\n",
        "    plt.ylabel(eje_y, fontsize=20);\n",
        "    plt.title(titulo, fontsize=20);\n",
        "\n",
        "# Funcion pronostico\n",
        "def pronostico(df, paises, Periodo, eje_y):\n",
        "\n",
        "  if len(paises) == 0:\n",
        "      return\n",
        "\n",
        "  df = df.rename(columns={'Country/Region':'Country_Region'})\n",
        "  df = df[df.Country_Region.isin(paises)]\n",
        "\n",
        "  values = []\n",
        "  for date in (df.drop(['Province/State', 'Country_Region', 'Lat', 'Long'], axis=1)):\n",
        "    values.append(df[date].sum())\n",
        "\n",
        "  date = list(df.drop(['Province/State', 'Country_Region', 'Lat', 'Long'], axis=1))\n",
        "\n",
        "  df = pd.DataFrame(list(zip(date,values)), columns = ['ds','y'])\n",
        "\n",
        "  # Cambiar formato de la fecha de aaaa/mm/dd a aaaa-mm-dd\n",
        "  df['ds'] = pd.to_datetime(df['ds'],infer_datetime_format=True)\n",
        "  # Me quedo con los registros posteriores a 2020-05-01 (1 de mayo de 2020)\n",
        "  df = df[df['ds']>\"2020-05-01\"]\n",
        "\n",
        "  # Me quedo solo con y  (casos totales) y ds (fecha) Todo esto para el pais seleccionado\n",
        "  df = df[['y','ds']]\n",
        "\n",
        "  # Al asignar estos cambios al mismo df, este queda modificado para posteriores analisis\n",
        "\n",
        "  # Run Prophet to get predictions\n",
        "  pred = Prophet(yearly_seasonality=False, daily_seasonality=False)\n",
        "\n",
        "  # Fit (Entrenar) entrena con los datos de entrada \"df\"\n",
        "  pred.fit(df)\n",
        "  future = pred.make_future_dataframe(periods=Periodo * 30)\n",
        "\n",
        "  forecast = pred.predict(future)\n",
        "\n",
        "  #Plot the prediction Graph\n",
        "  graph = pred.plot(forecast)\n",
        "\n",
        "  plt.xlabel(\"Fecha\", fontsize=15);\n",
        "  plt.ylabel(eje_y, fontsize=15);\n",
        "  plt.title(\"Pronostico en un peridodo de \" + str(Periodo) + \" meses\", fontsize=15);"
      ],
      "execution_count": 3,
      "outputs": []
    },
    {
      "cell_type": "markdown",
      "metadata": {
        "id": "DB45lB04Q7rB"
      },
      "source": [
        "---\n",
        "# 3 Desarrollo"
      ]
    },
    {
      "cell_type": "markdown",
      "metadata": {
        "id": "0rFEsCA_TKcx"
      },
      "source": [
        "---\n",
        "## 3.1 Grafico con respecto al tiempo"
      ]
    },
    {
      "cell_type": "code",
      "metadata": {
        "id": "AcbTRstAwl8X"
      },
      "source": [
        "paises_seleccionados = []\n",
        "\n",
        "@interact\n",
        "def graficar(Pais = ['...']+lista_paises, Mundial = False, Filtro = ['...','Casos confirmados','Muertos','Recuperados']):\n",
        "\n",
        "  global paises_seleccionados\n",
        "\n",
        "  if Pais != '...':\n",
        "    paises_seleccionados.append(Pais)\n",
        "    paises_seleccionados = list(pd.unique(paises_seleccionados))\n",
        "\n",
        "  if Mundial:\n",
        "    paises = lista_paises\n",
        "  elif Mundial == False:\n",
        "    paises = paises_seleccionados\n",
        "    display(paises)\n",
        "\n",
        "  if Filtro == \"Casos confirmados\":\n",
        "    df = agrupar(data_confirmados)\n",
        "    grafico(df, paises, 'Casos confirmados con respecto al tiempo', 'Casos confirmados')\n",
        "  elif Filtro == 'Muertos':\n",
        "    df = agrupar(data_muertos)\n",
        "    grafico(df, paises, 'Muertos con respecto al tiempo', 'Muertes') \n",
        "  elif Filtro == 'Recuperados':\n",
        "    df = agrupar(data_recuperados)\n",
        "    grafico(df, paises, 'Recuperados con respecto al tiempo', 'Recuperados') "
      ],
      "execution_count": null,
      "outputs": []
    },
    {
      "cell_type": "markdown",
      "metadata": {
        "id": "dPtZgJ0ZTY1v"
      },
      "source": [
        "---\n",
        "## 3.2 Pronostico de casos"
      ]
    },
    {
      "cell_type": "code",
      "metadata": {
        "id": "gYT6PsMHiY4f"
      },
      "source": [
        "pais = []\n",
        "\n",
        "@interact\n",
        "def pronosticar(Pais = ['...']+lista_paises, Mundial = False, Filtro = ['...','Casos Confirmados','Muertos','Recuperados'], Periodo = (1,12,1)):\n",
        "  \n",
        "  global pais\n",
        "  if Pais != '...':\n",
        "    pais = [Pais]\n",
        "\n",
        "  if Mundial:\n",
        "    pais = lista_paises\n",
        "  if Filtro == 'Casos Confirmados':\n",
        "    pronostico(data_confirmados,pais,Periodo,\"Casos Confirmados\")\n",
        "  elif Filtro == 'Muertos':\n",
        "    pronostico(data_muertos,pais,Periodo,\"Muertes\")\n",
        "  elif Filtro == 'Recuperados':\n",
        "    pronostico(data_recuperados,pais,Periodo,\"Recuperados\")"
      ],
      "execution_count": null,
      "outputs": []
    },
    {
      "cell_type": "markdown",
      "metadata": {
        "id": "owBhcuPZRHZZ"
      },
      "source": [
        "---\n",
        "# 4 Conclusiones\n",
        "\n",
        "El tema elegido sirve para visualizar la idea de HPC, al utilizar grandes volumenes de datos en los 3 datasets. Se realiza un filtrado de muchos datos para las visualizacion y se utilizan los mismo para poder pronosticar a futuro, lo cual es un campo muy interesante para explorar, ya que tiene mucho aplicacion tanto para el tema Covid como para cualquier otra enfermedad, o datos de otra indole."
      ]
    },
    {
      "cell_type": "markdown",
      "metadata": {
        "id": "8rQvIP1kROfi"
      },
      "source": [
        "---\n",
        "# 5 Bibliografia\n",
        "\n",
        "**Codigo de la idea**\n",
        "\n",
        "https://colab.research.google.com/github/hugobowne/COVID-19-EDA-tutorial/blob/master/notebooks/1-COVID-19-EDA-solution.ipynb#scrollTo=4LdokSt3aIYE\n",
        "\n",
        "**Documentacion Pandas**\n",
        "\n",
        "https://pandas.pydata.org/pandas-docs/stable/reference/api/pandas.DataFrame.groupby.html\n",
        "\n",
        "**Documentacion Matplotlib**\n",
        "\n",
        "https://matplotlib.org\n",
        "\n",
        "**Prophet**\n",
        "\n",
        "* **Documentacion**\n",
        "\n",
        "  https://facebook.github.io/prophet/docs/quick_start.html#python-api\n",
        "\n",
        "* **Codigo idea**\n",
        "\n",
        "  https://medium.com/@simonprdhm/prediction-of-the-number-of-covid-19-cases-using-google-colab-python-and-facebooks-prophet-732caee170f8"
      ]
    }
  ]
}